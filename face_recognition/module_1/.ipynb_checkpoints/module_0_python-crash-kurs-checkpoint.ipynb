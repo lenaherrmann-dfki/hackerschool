{
 "cells": [
  {
   "cell_type": "markdown",
   "metadata": {
    "id": "WI5YyDI57CBh"
   },
   "source": [
    "## In diesem Notebook findet ihr ein paar Tipps zu der Programmierung mit Python"
   ]
  },
  {
   "cell_type": "code",
   "execution_count": null,
   "metadata": {
    "executionInfo": {
     "elapsed": 890,
     "status": "ok",
     "timestamp": 1624200615410,
     "user": {
      "displayName": "Lena Herrmann",
      "photoUrl": "",
      "userId": "14614092248171651689"
     },
     "user_tz": -120
    },
    "id": "20IFesv044Uk"
   },
   "outputs": [],
   "source": [
    "# Variablen\n",
    "number = 5\n",
    "word = 'Das ist ein Wort'\n",
    "list_of_numbers = [1, 2, 3, 4, 5]\n",
    "list_of_word = ['Das', 'ist', 'eine', 'Liste', 'mit', 'Wörtern']"
   ]
  },
  {
   "cell_type": "code",
   "execution_count": null,
   "metadata": {
    "id": "nGcT9nBW5m3D"
   },
   "outputs": [],
   "source": [
    "# Ausgaben\n",
    "print('Hallo')\n",
    "\n",
    "# Ausgaben von Variablen\n",
    "greeting = 'Hallo, wie gehts?'\n",
    "print(greeting)"
   ]
  },
  {
   "cell_type": "code",
   "execution_count": null,
   "metadata": {
    "id": "v5uAS2w856PP"
   },
   "outputs": [],
   "source": [
    "# Kontrollstrukturen mit if und else\n",
    "\n",
    "sun_is_shining = True\n",
    "\n",
    "# Hier wird überprüft ob sun_is_shining == True ist, also wahr\n",
    "if sun_is_shining:\n",
    "  print('Sonne schein')\n",
    "else: \n",
    "  print('die Sonne schein nicht')\n",
    "\n",
    "# Hier wird überprüft ob sun_is_shining == False ist, also falsch\n",
    "if not sun_is_shining:  \n",
    "  print('die Sonne schein nicht')\n",
    "else: \n",
    "  print('Sonne schein')\n",
    "\n",
    "\n",
    "check_value = 5\n",
    "\n",
    "# Hier wird überprüft, ob die Variable check_value einen bestimmten Wert hat\n",
    "if check_value == 5:\n",
    "  print('Der Wert ist' + check_value)\n",
    "elif check_value > 10:\n",
    "  print('Der Wert ist größer 10')\n",
    "elif 0 < check_value < 5:\n",
    "  print('Der Wert ist zwischen 0 und 5')\n"
   ]
  },
  {
   "cell_type": "code",
   "execution_count": null,
   "metadata": {
    "id": "Q8LJ-ua07K2a"
   },
   "outputs": [],
   "source": [
    "# Kontrollstrukturen mit Schleifen:\n",
    "\n",
    "# Es wird von 0 bis 10 hochgezählt\n",
    "for i in range(10):\n",
    "  print(i)\n",
    "\n",
    "# Es wird von 11 bis 20 gezählt, in zweier Schritten\n",
    "for i in range(11,20, 2):\n",
    "  print(i)\n",
    "\n",
    "# Es wird von 20 bis 0 gezählt, also rückwärts\n",
    "for i in fange(20,0,-1)\n",
    "  print(i)\n",
    "\n",
    "# Hier werden alle Element in der Liste iteriert\n",
    "for element in list_of_numbers:\n",
    "  print(element)\n",
    "\n",
    "# Hier auch, aber mit Strings\n",
    "for word in list_of_word:\n",
    "  print(word)"
   ]
  },
  {
   "cell_type": "code",
   "execution_count": null,
   "metadata": {
    "id": "NNcQ9wlm7lpH"
   },
   "outputs": [],
   "source": [
    "# Einfach Funktion\n",
    "\n",
    "def greetings():\n",
    "  print('hello')\n",
    "\n",
    "def add():\n",
    "  sum = 2 + 3\n",
    "  print(sum)\n",
    "\n",
    "# Die Funktionen müssen noch aufgerufen werden\n",
    "\n",
    "greetings()\n",
    "add()"
   ]
  },
  {
   "cell_type": "code",
   "execution_count": null,
   "metadata": {
    "id": "hwz9ykLUVP0D"
   },
   "outputs": [],
   "source": [
    "# Funktionen mit Parametern\n",
    "\n",
    "def greetings(name):\n",
    "  print('hello '+ name)\n",
    "\n",
    "def add(x, y):\n",
    "  sum = x + y\n",
    "  print(sum)\n",
    "\n",
    "# Die Funktionen müssen noch mit den Parametern aufgerufen werden\n",
    "\n",
    "greetings('Jane')\n",
    "add(2, 3)"
   ]
  },
  {
   "cell_type": "code",
   "execution_count": null,
   "metadata": {
    "id": "Kcm5sM1WVjWS"
   },
   "outputs": [],
   "source": [
    "# Funktionen mit Parametern und Rückgabewert\n",
    "\n",
    "def greetings(name):\n",
    "  greet = 'hello '+ name\n",
    "  return greet\n",
    "\n",
    "def add(x, y):\n",
    "  sum = x + y\n",
    "  return sum\n",
    "\n",
    "# Die Funktionen müssen noch mit den Parametern aufgerufen werden und die Ergebnisse in eine Variable geschrieben werden\n",
    "\n",
    "who = greetings('Jane')\n",
    "summe = add(2, 3)\n",
    "\n",
    "print(who)\n",
    "print(summe)"
   ]
  },
  {
   "cell_type": "code",
   "execution_count": null,
   "metadata": {
    "id": "LwM3Sb8eV40Z"
   },
   "outputs": [],
   "source": [
    "# Anzeigen von Bildern\n",
    "\n",
    "import cv2\n",
    "import matplotlib.pyplot as plt\n",
    "\n",
    "# erst muss das Bild geladen werden\n",
    "image = cv2.imread('/Pfad/zum/Bild')\n",
    "\n",
    "# Und so zeigt man das Bild an\n",
    "plt.imshow(image)\n",
    "plt.show()"
   ]
  },
  {
   "cell_type": "code",
   "execution_count": null,
   "metadata": {
    "id": "IcEcfzpeV_d-"
   },
   "outputs": [],
   "source": []
  }
 ],
 "metadata": {
  "colab": {
   "authorship_tag": "ABX9TyN8oO0V2TIyrbxwVi9zOGqK",
   "collapsed_sections": [],
   "name": "module_0_python-crash-kurs.ipynb",
   "provenance": []
  },
  "kernelspec": {
   "display_name": "Python 3",
   "language": "python",
   "name": "python3"
  },
  "language_info": {
   "codemirror_mode": {
    "name": "ipython",
    "version": 3
   },
   "file_extension": ".py",
   "mimetype": "text/x-python",
   "name": "python",
   "nbconvert_exporter": "python",
   "pygments_lexer": "ipython3",
   "version": "3.8.8"
  }
 },
 "nbformat": 4,
 "nbformat_minor": 1
}
