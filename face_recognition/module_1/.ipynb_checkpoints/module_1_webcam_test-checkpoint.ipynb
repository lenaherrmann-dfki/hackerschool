{
 "cells": [
  {
   "cell_type": "code",
   "execution_count": null,
   "metadata": {
    "executionInfo": {
     "elapsed": 1105,
     "status": "ok",
     "timestamp": 1619463511405,
     "user": {
      "displayName": "Lena Herrmann",
      "photoUrl": "",
      "userId": "14614092248171651689"
     },
     "user_tz": -120
    },
    "id": "jVLCGDVhR3cd"
   },
   "outputs": [],
   "source": [
    "import IPython\n",
    "from IPython import display\n",
    "from IPython.display import Javascript, Image\n",
    "\n",
    "from google.colab.output import eval_js"
   ]
  },
  {
   "cell_type": "code",
   "execution_count": null,
   "metadata": {
    "colab": {
     "base_uri": "https://localhost:8080/"
    },
    "executionInfo": {
     "elapsed": 25349,
     "status": "ok",
     "timestamp": 1619463537660,
     "user": {
      "displayName": "Lena Herrmann",
      "photoUrl": "",
      "userId": "14614092248171651689"
     },
     "user_tz": -120
    },
    "id": "-W1RPjfdiopQ",
    "outputId": "732813c9-8fc3-4350-a015-905e2c6f28b5"
   },
   "outputs": [],
   "source": [
    "# Wir machen google-drive dem Notebook bekannt, um Zugriff auf die Daten zu erhalten\n",
    "from google.colab import drive\n",
    "drive.mount('/content/drive')\n",
    "base_dir = '/content/drive/MyDrive/hackerschool'"
   ]
  },
  {
   "cell_type": "code",
   "execution_count": null,
   "metadata": {
    "executionInfo": {
     "elapsed": 692,
     "status": "ok",
     "timestamp": 1619463544201,
     "user": {
      "displayName": "Lena Herrmann",
      "photoUrl": "",
      "userId": "14614092248171651689"
     },
     "user_tz": -120
    },
    "id": "WMUN_YGlSDGv"
   },
   "outputs": [],
   "source": [
    "def start_webcam():\n",
    "\n",
    "  js = Javascript('''\n",
    "      (async function() {\n",
    "\n",
    "            // Wir erstellen Html-Elemente, welche den Input der WebCam zeigen          \n",
    "            var video = document.createElement('video');        \n",
    "            video.id = 'video_stream'\n",
    "            video.style.display = 'hidden';\n",
    "            \n",
    "            var div = document.createElement('div');\n",
    "            div.id = 'video_container';   \n",
    "\n",
    "            // Mit diesem Button können wir die WebCam wieder ausschalten\n",
    "            stop_button = document.createElement('button');\n",
    "            stop_button.id = 'stop_button';\n",
    "            stop_button.innerHTML = 'Stop Video';     \n",
    "\n",
    "            div.appendChild(video);\n",
    "            div.appendChild(stop_button);\n",
    "                          \n",
    "            document.body.appendChild(div);\n",
    "\n",
    "            // Es wird die WebCam abgerufen, damit diese benutzt werden kann\n",
    "            const stream = await navigator.mediaDevices.getUserMedia({video: true});      \n",
    "            video.srcObject = stream;\n",
    "\n",
    "            // Es wir darauf gewartet, dass die WebCam einsatzbereit ist\n",
    "            await video.play(); \n",
    "            \n",
    "            google.colab.output.setIframeHeight(document.documentElement.scrollHeight, true);\n",
    "            \n",
    "            // Das Video der WebCam wird auf eine Canvas gezeichnet\n",
    "            var canvas = document.createElement('canvas');\n",
    "            canvas.id = 'video_canvas';\n",
    "            canvas.width = video.videoWidth;\n",
    "            canvas.height = video.videoHeight;\n",
    "            \n",
    "            canvas.getContext('2d').drawImage(video, 0, 0);\n",
    "            content = canvas.toDataURL('image/jpeg', 0.8);\n",
    "\n",
    "            // Sobald der Button geklickt wird, wird die WebCam ausgeschaltet \n",
    "            stop_button.onclick = function() {\n",
    "                  console.log('click');\n",
    "                  stream.getVideoTracks()[0].stop()\n",
    "          };\n",
    "\n",
    "      })();\n",
    "    ''')\n",
    "\n",
    "  display.display(js)"
   ]
  },
  {
   "cell_type": "code",
   "execution_count": null,
   "metadata": {
    "colab": {
     "base_uri": "https://localhost:8080/",
     "height": 505
    },
    "executionInfo": {
     "elapsed": 744,
     "status": "ok",
     "timestamp": 1619463550237,
     "user": {
      "displayName": "Lena Herrmann",
      "photoUrl": "",
      "userId": "14614092248171651689"
     },
     "user_tz": -120
    },
    "id": "iRAsKHpiS7CL",
    "outputId": "d39798a2-81d4-41c1-f932-95e3dcef78cb"
   },
   "outputs": [],
   "source": [
    "# Mit diesem Methoden-Aufruf starten wir die WebCam.\n",
    "start_webcam()"
   ]
  }
 ],
 "metadata": {
  "accelerator": "GPU",
  "colab": {
   "authorship_tag": "ABX9TyO5z0O+JuQZ1YcoSRche8FW",
   "collapsed_sections": [],
   "name": "module_1_webcam_test.ipynb",
   "provenance": []
  },
  "kernelspec": {
   "display_name": "Python 3",
   "language": "python",
   "name": "python3"
  },
  "language_info": {
   "codemirror_mode": {
    "name": "ipython",
    "version": 3
   },
   "file_extension": ".py",
   "mimetype": "text/x-python",
   "name": "python",
   "nbconvert_exporter": "python",
   "pygments_lexer": "ipython3",
   "version": "3.8.8"
  }
 },
 "nbformat": 4,
 "nbformat_minor": 1
}
