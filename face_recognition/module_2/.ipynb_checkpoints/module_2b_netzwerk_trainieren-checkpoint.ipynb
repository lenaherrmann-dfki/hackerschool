{
 "cells": [
  {
   "cell_type": "code",
   "execution_count": null,
   "metadata": {
    "id": "nMl5Z9Desnb_"
   },
   "outputs": [],
   "source": [
    "# Wir importieren alle Bibliotheken, die wir benötigen ...\n",
    "import tensorflow as tf\n",
    "from tensorflow.keras.preprocessing.image import ImageDataGenerator\n",
    "import matplotlib.pyplot as plt\n",
    "import numpy as np\n",
    "import os\n",
    "\n",
    "# ... und noch für das Netzwerk\n",
    "from tensorflow.keras.layers import Conv2D, MaxPooling2D, Dense, Flatten, BatchNormalization\n",
    "from tensorflow.keras.models import Sequential"
   ]
  },
  {
   "cell_type": "code",
   "execution_count": null,
   "metadata": {
    "colab": {
     "base_uri": "https://localhost:8080/"
    },
    "executionInfo": {
     "elapsed": 21021,
     "status": "ok",
     "timestamp": 1619948118770,
     "user": {
      "displayName": "NotARobot13",
      "photoUrl": "https://lh3.googleusercontent.com/a-/AOh14GgCU-vhNchLkzQaVRcAup-cilB4XjbMlSRGy4il=s64",
      "userId": "04677930808361191541"
     },
     "user_tz": -120
    },
    "id": "1qTqhn8HqTPX",
    "outputId": "d23da0b3-71c1-44af-b7ff-ac07376c8872"
   },
   "outputs": [],
   "source": [
    "from google.colab import drive\n",
    "drive.mount('/content/drive')\n",
    "base_dir = '/content/drive/MyDrive/hackerschool/module_2'"
   ]
  },
  {
   "cell_type": "code",
   "execution_count": null,
   "metadata": {
    "id": "Mf6DxBcysncM"
   },
   "outputs": [],
   "source": [
    "# Das sind die sechs Klassen bzw. Label dir wir später trainieren wollen\n",
    "classes = [\"Billie Eilish\", \"Queen Elisabeth\", \"Kamala Harris\", \"Michelle Obama\", \"Kristen Stewart\", \"Taylor Swift\"]\n",
    "\n",
    "# Wir definieren die Pfade für Training, Validierung und Testen\n",
    "training_dir = os.path.join(base_dir,\"images/train/\")\n",
    "validation_dir = os.path.join(base_dir,\"images/validate/\")\n",
    "test_dir = os.path.join(base_dir,\"images/test/\")\n",
    "\n",
    "# Die Bildgröße ist 256 breit x 256 hoch\n",
    "img_size = (256,256)\n",
    "\n",
    "# Die Batch-Size gibt später an, wieviele Bilder auf einmal verarbeitet werden sollen\n",
    "batch_size = 1\n"
   ]
  },
  {
   "cell_type": "code",
   "execution_count": null,
   "metadata": {
    "colab": {
     "background_save": true
    },
    "id": "wF9GkQeCsncO"
   },
   "outputs": [],
   "source": [
    "# Für jeden Satz an Daten brauchen wir einen neuen ImageDatenGenerator\n",
    "\n",
    "train_data_generator = ImageDataGenerator(rescale= 1. / 255.)\n",
    "\n",
    "validate_data_generator = ImageDataGenerator(rescale= 1. / 255.)\n",
    "\n",
    "test_data_generator = ImageDataGenerator(rescale= 1. / 255.)\n"
   ]
  },
  {
   "cell_type": "code",
   "execution_count": null,
   "metadata": {
    "colab": {
     "base_uri": "https://localhost:8080/"
    },
    "executionInfo": {
     "elapsed": 2294,
     "status": "ok",
     "timestamp": 1619948158961,
     "user": {
      "displayName": "NotARobot13",
      "photoUrl": "https://lh3.googleusercontent.com/a-/AOh14GgCU-vhNchLkzQaVRcAup-cilB4XjbMlSRGy4il=s64",
      "userId": "04677930808361191541"
     },
     "user_tz": -120
    },
    "id": "bytHjEsLsncP",
    "outputId": "7cd96edd-1db7-4c15-c14f-f712180ec191"
   },
   "outputs": [],
   "source": [
    "# Für jeden Daten-Generator legen wir fest, \n",
    "#   - in welchem Datei-Pfad die Bilder liegen\n",
    "#   - welche Zielgröße die Bilder haben\n",
    "#   - das wir die Daten in RGB haben wollen\n",
    "#   - das die Daten nicht immer in der gleichen Reihenfolge gelesen werden sollen\n",
    "#   - wie viele Daten auf einmal geladen werden sollen\n",
    "#   - Wie die Klassen strukturiert werden sollen\n",
    "\n",
    "train_generator = train_data_generator.flow_from_directory(\n",
    "    training_dir, \n",
    "    target_size=(256,256),\n",
    "    color_mode=\"rgb\",\n",
    "    shuffle=True,\n",
    "    batch_size=batch_size,\n",
    "    class_mode=\"categorical\")\n",
    "\n",
    "validation_generator = validate_data_generator.flow_from_directory(\n",
    "    validation_dir, \n",
    "    target_size=(256,256),\n",
    "    color_mode=\"rgb\",\n",
    "    shuffle=True,\n",
    "    batch_size=batch_size,\n",
    "    class_mode=\"categorical\")\n",
    "\n",
    "test_generator = test_data_generator.flow_from_directory(\n",
    "    test_dir, \n",
    "    target_size=(256,256),\n",
    "    color_mode=\"rgb\",\n",
    "    batch_size=batch_size,\n",
    "    class_mode=\"categorical\")"
   ]
  },
  {
   "cell_type": "code",
   "execution_count": null,
   "metadata": {
    "colab": {
     "base_uri": "https://localhost:8080/",
     "height": 264
    },
    "executionInfo": {
     "elapsed": 977,
     "status": "ok",
     "timestamp": 1619948163752,
     "user": {
      "displayName": "NotARobot13",
      "photoUrl": "https://lh3.googleusercontent.com/a-/AOh14GgCU-vhNchLkzQaVRcAup-cilB4XjbMlSRGy4il=s64",
      "userId": "04677930808361191541"
     },
     "user_tz": -120
    },
    "id": "F7gYzNR3sncY",
    "outputId": "90da5f7d-4c0a-46f9-c221-b28ccebbadcf"
   },
   "outputs": [],
   "source": [
    "item = train_generator.__getitem__(1) \n",
    "name = classes[np.argmax(item[1])] \n",
    "plt.imshow(np.squeeze(item[0]))\n",
    "plt.title(f\"{name} aus den Klassen {np.squeeze(item[1])}\")\n",
    "plt.axis('off')\n",
    "plt.show()"
   ]
  },
  {
   "cell_type": "code",
   "execution_count": null,
   "metadata": {
    "id": "fH3dwUV8sncd"
   },
   "outputs": [],
   "source": [
    "# Wir müssen ein paar Metaparameter für das Netzwerk definieren\n",
    "num_classes = 6 # die Anzahl der Klassen die wir trainieren wollen\n",
    "epochs = 5 # die Anzahl der Durchläufe des Models"
   ]
  },
  {
   "cell_type": "code",
   "execution_count": null,
   "metadata": {
    "colab": {
     "background_save": true,
     "base_uri": "https://localhost:8080/"
    },
    "executionInfo": {
     "elapsed": 488,
     "status": "ok",
     "timestamp": 1619949320535,
     "user": {
      "displayName": "NotARobot13",
      "photoUrl": "https://lh3.googleusercontent.com/a-/AOh14GgCU-vhNchLkzQaVRcAup-cilB4XjbMlSRGy4il=s64",
      "userId": "04677930808361191541"
     },
     "user_tz": -120
    },
    "id": "DaQWa982sncg",
    "outputId": "c9f61e9b-a95b-4da1-a22c-12db072eb5fc"
   },
   "outputs": [],
   "source": [
    "# Wir legen ein neues Model an\n",
    "model = Sequential(name='Face-Recognition')\n",
    "\n",
    "# und fügen dem Model Layer hinzu\n",
    "# beim ersten Layer müssen wir darauf achten, die input_shape zu definieren. \n",
    "# Das ist die Bildgröße und die Anzahl der Farbkanäle RGB --> (256, 256 ,3)\n",
    "model.add(Conv2D(filters=8, kernel_size=3, padding='same', activation='relu', input_shape=(256,256,3)))\n",
    "model.add(MaxPooling2D())\n",
    "model.add(Flatten())\n",
    "model.add(Dense(units=128, activation='relu'))\n",
    "model.add(Dense(num_classes))\n",
    "\n",
    "# So sieht die Struktur unseres Netzwerks aus\n",
    "model.summary()"
   ]
  },
  {
   "cell_type": "code",
   "execution_count": null,
   "metadata": {
    "colab": {
     "background_save": true
    },
    "id": "-qz4Bugisnch"
   },
   "outputs": [],
   "source": [
    "# Anschließend müssen wir das Netzwerk kompilieren mit:\n",
    "# 1. Optimieren --> für das Korrigieren im Fehlerfall\n",
    "# 2. Loss-Funktion --> zum Vergleich zwischen Vorhersage und tatsächlichem Label\n",
    "# 3. Metrik --> zum Speichern des Verlaufs des Trainings\n",
    "model.compile(optimizer='adam',\n",
    "              loss=tf.keras.losses.CategoricalCrossentropy(),\n",
    "              metrics=['accuracy'])"
   ]
  },
  {
   "cell_type": "code",
   "execution_count": null,
   "metadata": {
    "colab": {
     "base_uri": "https://localhost:8080/"
    },
    "executionInfo": {
     "elapsed": 15756,
     "status": "ok",
     "timestamp": 1619949435714,
     "user": {
      "displayName": "NotARobot13",
      "photoUrl": "https://lh3.googleusercontent.com/a-/AOh14GgCU-vhNchLkzQaVRcAup-cilB4XjbMlSRGy4il=s64",
      "userId": "04677930808361191541"
     },
     "user_tz": -120
    },
    "id": "CwE16aZusncj",
    "outputId": "2db1a8c8-3c33-4850-d362-3ab927b739f0"
   },
   "outputs": [],
   "source": [
    "# über model.fit starten wir das Training. Hier geben wir die Trainings- und Validierungsdaten mit,\n",
    "# sowie die Anzahl der Durchläufe\n",
    "history = model.fit(\n",
    "    train_generator,  # Trainingsdaten\n",
    "    validation_data=validation_generator, # Validierungsdaten\n",
    "    epochs=epochs # Durchläufe\n",
    ")"
   ]
  },
  {
   "cell_type": "code",
   "execution_count": null,
   "metadata": {
    "id": "K_w3-HQIsncl",
    "outputId": "3b45bc5e-df19-4b0d-c60d-4842a4f09444"
   },
   "outputs": [],
   "source": [
    "acc = history.history['accuracy']\n",
    "val_acc = history.history['val_accuracy']\n",
    "loss = history.history['loss']\n",
    "val_loss = history.history['val_loss']\n",
    "epochs = range(1, len(acc) + 1)\n",
    "\n",
    "plt.plot(epochs, acc, 'bo', label='Training acc')\n",
    "plt.plot(epochs, val_acc, 'b', label='Validation acc')\n",
    "plt.title('Training und Validierung accuracy')\n",
    "plt.legend()\n",
    "plt.figure()\n",
    "plt.plot(epochs, loss, 'bo', label='Training loss')\n",
    "plt.plot(epochs, val_loss, 'b', label='Validation loss')\n",
    "plt.title('Training und Validierung loss')\n",
    "plt.legend()\n",
    "plt.show()"
   ]
  },
  {
   "cell_type": "code",
   "execution_count": null,
   "metadata": {
    "id": "xOW7tKpjsncn"
   },
   "outputs": [],
   "source": [
    "# Speichert das Model ab, wenn ihr das Ergebnis gut findet\n",
    "save_where = 'model.h5'\n",
    "model.save_weights(save_where)"
   ]
  },
  {
   "cell_type": "code",
   "execution_count": null,
   "metadata": {
    "id": "ODw5rU9Vsncu"
   },
   "outputs": [],
   "source": []
  }
 ],
 "metadata": {
  "accelerator": "GPU",
  "colab": {
   "collapsed_sections": [],
   "name": "module_2b_netzwerk_trainieren.ipynb",
   "provenance": []
  },
  "kernelspec": {
   "display_name": "Python 3",
   "language": "python",
   "name": "python3"
  },
  "language_info": {
   "codemirror_mode": {
    "name": "ipython",
    "version": 3
   },
   "file_extension": ".py",
   "mimetype": "text/x-python",
   "name": "python",
   "nbconvert_exporter": "python",
   "pygments_lexer": "ipython3",
   "version": "3.8.8"
  }
 },
 "nbformat": 4,
 "nbformat_minor": 1
}
