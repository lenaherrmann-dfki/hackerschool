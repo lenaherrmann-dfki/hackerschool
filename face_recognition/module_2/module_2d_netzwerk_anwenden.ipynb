{
 "cells": [
  {
   "cell_type": "code",
   "execution_count": 12,
   "metadata": {},
   "outputs": [],
   "source": [
    "# Wir importieren alle Bibliotheken, die wir benötigen ...\n",
    "import tensorflow as tf\n",
    "from tensorflow.keras.preprocessing.image import ImageDataGenerator\n",
    "import matplotlib.pyplot as plt\n",
    "import numpy as np\n",
    "\n",
    "# ... und noch für das Netzwerk\n",
    "from tensorflow.keras.layers import Conv2D, MaxPooling2D, Dense, Flatten\n",
    "from tensorflow.keras.models import Sequential"
   ]
  },
  {
   "cell_type": "code",
   "execution_count": 26,
   "metadata": {},
   "outputs": [],
   "source": [
    "# Das sind die drei Klassen bzw. Label dir wir später trainieren wollen\n",
    "\n",
    "classes = [\"Queen Elisabeth\", \"Kamala Harris\", \"Michelle Obama\"]\n",
    "\n",
    "# Lades das Model und wendet es auf neue Bilder an. \n",
    "# Erinnert euch daran, was wir für den Emotion Detector gemacht haben\n",
    "\n",
    "# Wie gut ist euer Netzwerk? \n",
    "# Werden die Personen erkannt?\n"
   ]
  }
 ],
 "metadata": {
  "kernelspec": {
   "display_name": "Python 3",
   "language": "python",
   "name": "python3"
  },
  "language_info": {
   "codemirror_mode": {
    "name": "ipython",
    "version": 3
   },
   "file_extension": ".py",
   "mimetype": "text/x-python",
   "name": "python",
   "nbconvert_exporter": "python",
   "pygments_lexer": "ipython3",
   "version": "3.8.5"
  }
 },
 "nbformat": 4,
 "nbformat_minor": 4
}
