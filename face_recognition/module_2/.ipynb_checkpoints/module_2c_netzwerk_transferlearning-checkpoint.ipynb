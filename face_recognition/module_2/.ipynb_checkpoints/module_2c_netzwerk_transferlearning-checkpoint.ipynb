{
 "cells": [
  {
   "cell_type": "code",
   "execution_count": null,
   "metadata": {
    "id": "cOQfcJLqUIdx"
   },
   "outputs": [],
   "source": [
    "# Wir importieren alle Bibliotheken, die wir benötigen ...\n",
    "import tensorflow as tf\n",
    "from tensorflow.keras.preprocessing.image import ImageDataGenerator\n",
    "import matplotlib.pyplot as plt\n",
    "import numpy as np\n",
    "import os\n",
    "\n",
    "import cv2\n",
    "\n",
    "# ... und noch für das Netzwerk\n",
    "from tensorflow.keras.layers import Conv2D, MaxPooling2D, Dense, Flatten\n",
    "from tensorflow.keras.layers import BatchNormalization, Dropout, GlobalAveragePooling2D\n",
    "from tensorflow.keras.models import Sequential\n",
    "from tensorflow.keras.optimizers import Adam"
   ]
  },
  {
   "cell_type": "code",
   "execution_count": null,
   "metadata": {
    "colab": {
     "base_uri": "https://localhost:8080/"
    },
    "executionInfo": {
     "elapsed": 224,
     "status": "ok",
     "timestamp": 1624191242194,
     "user": {
      "displayName": "Lena Herrmann",
      "photoUrl": "",
      "userId": "14614092248171651689"
     },
     "user_tz": -120
    },
    "id": "2pBGDh7MUklr",
    "outputId": "e053703c-bc3d-4f79-a082-f112070ce28f"
   },
   "outputs": [],
   "source": [
    "from google.colab import drive\n",
    "drive.mount('/content/drive')\n",
    "base_dir = '/content/drive/MyDrive/hackerschool/module_2'"
   ]
  },
  {
   "cell_type": "code",
   "execution_count": null,
   "metadata": {
    "id": "vJ15vdM1UpPo"
   },
   "outputs": [],
   "source": [
    "# Das sind die 6 Klassen bzw. Label die wir später trainieren wollen\n",
    "classes = [\"Billie Eilish\", \"Queen Elisabeth\", \"Kamala Harris\", \"Michelle Obama\", \"Kristen Stewart\", \"Taylor Swift\"]\n",
    "# classes = [\"Queen Elisabeth\", \"Michelle Obama\"]\n",
    "\n",
    "# Wir definieren die Pfade für Training, Validierung und Testen\n",
    "training_dir = os.path.join(base_dir,\"images/train/\")\n",
    "validation_dir = os.path.join(base_dir,\"images/validate/\")\n",
    "test_dir = os.path.join(base_dir,\"images/test/\")\n",
    "\n",
    "# Die Bildgröße ist 256 breit x 256 hoch\n",
    "img_size = (224,224)\n",
    "\n",
    "# Die Batch-Size gibt später an, wieviele Bilder auf einmal verarbeitet werden sollen\n",
    "batch_size = 1"
   ]
  },
  {
   "cell_type": "code",
   "execution_count": null,
   "metadata": {
    "id": "jdYo40U3U6Vr"
   },
   "outputs": [],
   "source": [
    "# Für jeden Satz an Daten brauchen wir einen neuen ImageDatenGenerator\n",
    "\n",
    "train_data_generator = ImageDataGenerator(rescale= 1. / 255.,)\n",
    "\n",
    "validate_data_generator = ImageDataGenerator(rescale= 1. / 255.)\n",
    "\n",
    "test_data_generator = ImageDataGenerator(rescale= 1. / 255.)"
   ]
  },
  {
   "cell_type": "code",
   "execution_count": null,
   "metadata": {
    "colab": {
     "base_uri": "https://localhost:8080/"
    },
    "executionInfo": {
     "elapsed": 4870,
     "status": "ok",
     "timestamp": 1624191255530,
     "user": {
      "displayName": "Lena Herrmann",
      "photoUrl": "",
      "userId": "14614092248171651689"
     },
     "user_tz": -120
    },
    "id": "edD49tF6U_Gv",
    "outputId": "a6ce670a-794a-4fbb-dd23-65d8c8fb3639"
   },
   "outputs": [],
   "source": [
    "# Für jeden Daten-Generator legen wir fest, \n",
    "#   - in welchem Datei-Pfad die Bilder liegen\n",
    "#   - welche Zielgröße die Bilder haben\n",
    "#   - das wir die Daten in RGB haben wollen\n",
    "#   - das die Daten nicht immer in der gleichen Reihenfolge gelesen werden sollen\n",
    "#   - wie viele Daten auf einmal geladen werden sollen\n",
    "#   - Wie die Klassen strukturiert werden sollen\n",
    "\n",
    "train_generator = train_data_generator.flow_from_directory(\n",
    "    training_dir, \n",
    "    target_size=img_size,\n",
    "    color_mode=\"rgb\",\n",
    "    shuffle=True,\n",
    "    batch_size=batch_size,\n",
    "    class_mode=\"categorical\")\n",
    "\n",
    "validation_generator = validate_data_generator.flow_from_directory(\n",
    "    validation_dir, \n",
    "    target_size=img_size,\n",
    "    color_mode=\"rgb\",\n",
    "    shuffle=True,\n",
    "    batch_size=batch_size,\n",
    "    class_mode=\"categorical\")\n",
    "\n",
    "test_generator = test_data_generator.flow_from_directory(\n",
    "    test_dir, \n",
    "    target_size=img_size,\n",
    "    color_mode=\"rgb\",\n",
    "    batch_size=batch_size,\n",
    "    class_mode=\"categorical\")"
   ]
  },
  {
   "cell_type": "code",
   "execution_count": null,
   "metadata": {
    "colab": {
     "base_uri": "https://localhost:8080/",
     "height": 264
    },
    "executionInfo": {
     "elapsed": 1044,
     "status": "ok",
     "timestamp": 1624191259527,
     "user": {
      "displayName": "Lena Herrmann",
      "photoUrl": "",
      "userId": "14614092248171651689"
     },
     "user_tz": -120
    },
    "id": "-JGbYmjdVC2b",
    "outputId": "fc40403e-4995-4da4-ef88-76bb543c72ee"
   },
   "outputs": [],
   "source": [
    "item = train_generator.__getitem__(1) \n",
    "name = classes[np.argmax(item[1])] \n",
    "plt.imshow(np.squeeze(item[0]))\n",
    "plt.title(f\"{name} aus den Klassen {np.squeeze(item[1])}\")\n",
    "plt.axis('off')\n",
    "plt.show()"
   ]
  },
  {
   "cell_type": "code",
   "execution_count": null,
   "metadata": {
    "id": "isrDpKLzVHg7"
   },
   "outputs": [],
   "source": [
    "# Wir müssen ein paar Metaparameter für das Netzwerk definieren\n",
    "num_classes = 6 # die Anzahl der Klassen die wir trainieren wollen\n",
    "epochs = 10 # die Anzahl der Durchläufe des Models"
   ]
  },
  {
   "cell_type": "code",
   "execution_count": null,
   "metadata": {
    "colab": {
     "base_uri": "https://localhost:8080/"
    },
    "executionInfo": {
     "elapsed": 6103,
     "status": "ok",
     "timestamp": 1624191280877,
     "user": {
      "displayName": "Lena Herrmann",
      "photoUrl": "",
      "userId": "14614092248171651689"
     },
     "user_tz": -120
    },
    "id": "1_2Jyl-iVIhj",
    "outputId": "557c7e25-db5b-4b19-df65-a97ff4ad6d60"
   },
   "outputs": [],
   "source": [
    "# Wir definieren als Basis-Model ein vortrainiertes Netzwerk. Hier nehmen wir ein MobileNetV2, da sich das bewehrt hat. \n",
    "# mit include_top = False schmeißen wir den letzten Layer weg!\n",
    "base_model = tf.keras.applications.MobileNetV2(input_shape=(224,224,3), include_top=False, weights='imagenet')\n",
    "# und wir müssen festlegen, dass die Gewichte in dem Netzwerk während des Trainings nicht angepasst werden\n",
    "base_model.trainable = False"
   ]
  },
  {
   "cell_type": "code",
   "execution_count": null,
   "metadata": {
    "id": "9ROUhVqQVRKo"
   },
   "outputs": [],
   "source": [
    "# Wir definieren jetzt ein neues Model, was das Basis-Model und einen neuen letzten Layer verwendet\n",
    "model = Sequential([\n",
    "    base_model,     \n",
    "    Conv2D(32, 3, activation='relu'),\n",
    "    Dropout(0.2),\n",
    "    GlobalAveragePooling2D(),\n",
    "    Dense(num_classes, activation='softmax')\n",
    "])"
   ]
  },
  {
   "cell_type": "code",
   "execution_count": null,
   "metadata": {
    "id": "Eai1bZcmVUSQ"
   },
   "outputs": [],
   "source": [
    "# Anschließend müssen wir das Netzwerk kompilieren mit:\n",
    "# 1. Optimieren --> für das Korrigieren im Fehlerfall\n",
    "# 2. Loss-Funktion --> zum Vergleich zwischen Vorhersage und tatsächlichem Label\n",
    "# 3. Metrik --> zum Speichern des Verlaufs des Trainings\n",
    "\n",
    "optimizer = Adam(learning_rate=0.001)\n",
    "\n",
    "model.compile(optimizer=optimizer,\n",
    "              loss=tf.keras.losses.CategoricalCrossentropy(),\n",
    "              metrics=['accuracy'])"
   ]
  },
  {
   "cell_type": "code",
   "execution_count": null,
   "metadata": {
    "colab": {
     "base_uri": "https://localhost:8080/"
    },
    "executionInfo": {
     "elapsed": 284455,
     "status": "ok",
     "timestamp": 1624191593816,
     "user": {
      "displayName": "Lena Herrmann",
      "photoUrl": "",
      "userId": "14614092248171651689"
     },
     "user_tz": -120
    },
    "id": "8fICXV7EVe5N",
    "outputId": "9fb767e0-8c6b-4a87-b0ae-5314c99e04eb"
   },
   "outputs": [],
   "source": [
    "history = model.fit(\n",
    "    train_generator,  # Trainingsdaten\n",
    "    validation_data=validation_generator, # Validierungsdaten\n",
    "    epochs=epochs # Durchläufe\n",
    ")\n"
   ]
  },
  {
   "cell_type": "code",
   "execution_count": null,
   "metadata": {
    "colab": {
     "base_uri": "https://localhost:8080/",
     "height": 513
    },
    "executionInfo": {
     "elapsed": 785,
     "status": "ok",
     "timestamp": 1624191904694,
     "user": {
      "displayName": "Lena Herrmann",
      "photoUrl": "",
      "userId": "14614092248171651689"
     },
     "user_tz": -120
    },
    "id": "GmNBsjg6VlxL",
    "outputId": "181baeeb-e18a-4a85-8970-9bbeea31c394"
   },
   "outputs": [],
   "source": [
    "acc = history.history['accuracy']\n",
    "val_acc = history.history['val_accuracy']\n",
    "\n",
    "loss = history.history['loss']\n",
    "val_loss = history.history['val_loss']\n",
    "\n",
    "plt.figure(figsize=(8, 8))\n",
    "plt.subplot(2, 1, 1)\n",
    "plt.plot(acc, label='Training Accuracy')\n",
    "plt.plot(val_acc, label='Validation Accuracy')\n",
    "plt.legend(loc='lower right')\n",
    "plt.ylabel('Accuracy')\n",
    "plt.ylim([min(plt.ylim()),1])\n",
    "plt.title('Training and Validation Accuracy')\n",
    "\n",
    "plt.subplot(2, 1, 2)\n",
    "plt.plot(loss, label='Training Loss')\n",
    "plt.plot(val_loss, label='Validation Loss')\n",
    "plt.legend(loc='upper right')\n",
    "plt.ylabel('Cross Entropy')\n",
    "plt.ylim([0,1.0])\n",
    "plt.title('Training and Validation Loss')\n",
    "plt.xlabel('epoch')\n",
    "plt.show()"
   ]
  },
  {
   "cell_type": "code",
   "execution_count": null,
   "metadata": {
    "id": "-c9lNTTeVsUh"
   },
   "outputs": [],
   "source": [
    "# Jetzt müssen wir das Model noch mal trainieren, und zwar mit dem Basis-Model zusammen\n",
    "base_model.trainable = True\n",
    "\n",
    "fine_tune_at = 100\n",
    "# allerdings nur für die ersten 100 Layer\n",
    "for layer in base_model.layers[:fine_tune_at]:\n",
    "    layer.trainable = False"
   ]
  },
  {
   "cell_type": "code",
   "execution_count": null,
   "metadata": {
    "id": "QP_78cUKVvJ5"
   },
   "outputs": [],
   "source": [
    "model.compile(optimizer=Adam(learning_rate=0.0001),\n",
    "              loss=tf.keras.losses.CategoricalCrossentropy(),\n",
    "              metrics=['accuracy']\n",
    "             )"
   ]
  },
  {
   "cell_type": "code",
   "execution_count": null,
   "metadata": {
    "colab": {
     "base_uri": "https://localhost:8080/"
    },
    "executionInfo": {
     "elapsed": 22732,
     "status": "ok",
     "timestamp": 1624191977711,
     "user": {
      "displayName": "Lena Herrmann",
      "photoUrl": "",
      "userId": "14614092248171651689"
     },
     "user_tz": -120
    },
    "id": "WImdqx6xVxFx",
    "outputId": "98fd92d5-e0e4-48c0-8956-bcb906a4270f"
   },
   "outputs": [],
   "source": [
    "history = model.fit(\n",
    "        train_generator,  # Trainingsdaten\n",
    "        validation_data=validation_generator, # Validierungsdaten\n",
    "        epochs=5 # Durchläufe\n",
    "    )"
   ]
  },
  {
   "cell_type": "code",
   "execution_count": null,
   "metadata": {
    "id": "WpE9edE2Yhz9"
   },
   "outputs": [],
   "source": [
    "# Speichert das Model ab, wenn ihr das Ergebnis gut findet\n",
    "save_where = 'model.h5'\n",
    "model.save_weights(save_where)"
   ]
  }
 ],
 "metadata": {
  "accelerator": "GPU",
  "colab": {
   "authorship_tag": "ABX9TyPHK3bUx3n8Ro7X/vb1VEjQ",
   "collapsed_sections": [],
   "name": "module_2c_netzwerk_transferlearning.ipynb",
   "provenance": []
  },
  "kernelspec": {
   "display_name": "Python 3",
   "language": "python",
   "name": "python3"
  },
  "language_info": {
   "codemirror_mode": {
    "name": "ipython",
    "version": 3
   },
   "file_extension": ".py",
   "mimetype": "text/x-python",
   "name": "python",
   "nbconvert_exporter": "python",
   "pygments_lexer": "ipython3",
   "version": "3.8.8"
  }
 },
 "nbformat": 4,
 "nbformat_minor": 1
}
